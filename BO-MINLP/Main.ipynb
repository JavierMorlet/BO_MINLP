{
 "cells": [
  {
   "cell_type": "code",
   "execution_count": null,
   "id": "43aa129a-a31e-44cd-b961-f1ee7b452e29",
   "metadata": {},
   "outputs": [],
   "source": [
    "\n",
    "# Importing the libraries\n",
    "import numpy as np\n",
    "import GPy\n",
    "# Import the class BayesianOptimization\n",
    "import BayesianOptimization"
   ]
  },
  {
   "cell_type": "code",
   "execution_count": null,
   "id": "e97ef3af",
   "metadata": {},
   "outputs": [],
   "source": [
    "# Mixed integer nonlinear programming (MINLP) problem with a noise term added to the objective function\n",
    "# Objective function\n",
    "# min (x−1)^2+(y−2)^2+ϵ\n",
    "# where $\\epsilon$ is a noise term that follows a normal distribution with mean 0 and variance $\\sigma^2$.\n",
    "# Constraints\n",
    "# x^2+y^2≤4\n",
    "# y \\ in {0,1}\n",
    "# x \\ in Reals\n",
    "\n",
    "# Define the objective function\n",
    "def f(x, y, ϵ):\n",
    "    return (x - 1)**2 + (y - 2)**2 + ϵ\n",
    "\n",
    "# Define the constraints\n",
    "def constraint(x, y):\n",
    "    return x**2 + y**2 - 4\n",
    "\n"
   ]
  },
  {
   "cell_type": "code",
   "execution_count": null,
   "id": "1b16c9e3-35e0-427b-a5ae-dbc3ada43017",
   "metadata": {},
   "outputs": [],
   "source": [
    "# Grossman example\n",
    "def f(x, y):\n",
    "    return -(1000*y[:,0] + 1500*y[:,1] + 2000*y[:,2] + 250*x[:,0] + 400*x[:,4] + 550*x[:,5]) - 500*x[:,0] - 950*x[:,1] + 1800*x[:,2]\n",
    "\n",
    "def g(x):\n",
    "    return np.array([x[:,1] + x[:,3] - (x[:,4] + x[:,5]), x[:,6] + x[:,7] - x[:,2], x[:,3] - 0.9*x[:,0], x[:,6] - 0.82*x[:,4], x[:,7] - 0.95*x[:,5]])\n",
    "\n",
    "def h(x, y):\n",
    "    return np.array([y[:,1] + y[:,2] - 1, x[:,0] - 20*y[:,0], x[:,4] - 30*y[:,1], x[:,5] - 30*y[:,1], x[:,2] - 10])\n",
    "\n",
    "def p(x, y, q = 2):\n",
    "    return np.sum(np.maximum(0, h(x, y))**q) + np.sum(np.abs(g(x))**q)\n",
    "\n",
    "def Omega(x, y, c):\n",
    "     return f(x, y) - c*p(x, y)\n",
    "\n",
    "# Number of continuous variables (n)\n",
    "n = 8\n",
    "# Number of discrete variables (m)\n",
    "m = 3\n",
    "# Number of points\n",
    "points = 100\n",
    "# Bounds\n",
    "x_l = np.zeros(n)\n",
    "x_u = 20*np.ones(n)\n",
    "y_l = np.zeros(m, dtype=int)\n",
    "y_u = np.ones(m, dtype=int)"
   ]
  },
  {
   "cell_type": "code",
   "execution_count": null,
   "id": "41398d8f-dc40-4bcf-8314-9a24444e2cc6",
   "metadata": {},
   "outputs": [],
   "source": [
    "# Number of points\n",
    "points = 100\n",
    "# Bounds\n",
    "bounds_x = np.array([x_l, x_u])\n",
    "bounds_y = np.array([y_l, y_u])\n",
    "# Kernel for the GP: RBF\n",
    "kernel = GPy.kern.RBF(input_dim=n+m, variance=1., lengthscale=1.)"
   ]
  },
  {
   "cell_type": "code",
   "execution_count": null,
   "id": "1b43bd65",
   "metadata": {},
   "outputs": [],
   "source": [
    "# Create an instance of the class BayesianOptimization\n",
    "bo = BayesianOptimization.BayesOpt(Omega, bounds_x, bounds_y, kernel, n, m, n_iter=500)"
   ]
  },
  {
   "cell_type": "code",
   "execution_count": null,
   "id": "3c884c56",
   "metadata": {},
   "outputs": [],
   "source": [
    "bo.fit()"
   ]
  },
  {
   "cell_type": "code",
   "execution_count": null,
   "id": "c2103fe8",
   "metadata": {},
   "outputs": [],
   "source": []
  }
 ],
 "metadata": {
  "kernelspec": {
   "display_name": "Python 3 (ipykernel)",
   "language": "python",
   "name": "python3"
  },
  "language_info": {
   "codemirror_mode": {
    "name": "ipython",
    "version": 3
   },
   "file_extension": ".py",
   "mimetype": "text/x-python",
   "name": "python",
   "nbconvert_exporter": "python",
   "pygments_lexer": "ipython3",
   "version": "3.8.8"
  }
 },
 "nbformat": 4,
 "nbformat_minor": 5
}
